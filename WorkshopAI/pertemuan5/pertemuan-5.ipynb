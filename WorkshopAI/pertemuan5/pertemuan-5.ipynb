{
 "cells": [
  {
   "cell_type": "code",
   "execution_count": null,
   "metadata": {},
   "outputs": [],
   "source": [
    "import matplotlib.pyplot as plt\n",
    "from skimage.io import imread\n",
    "import cv2\n",
    "temp2 = cv2.imread(\"gambar.jpg\", 0)\n",
    "\n",
    "height, width = temp2.shape[:2]\n",
    "img1 = cv2.imread(\"lena_color.jpg\", 0)\n",
    "img2 = cv2.resize(temp2, (width // 3, height // 3), interpolation=cv2.INTER_AREA)"
   ]
  },
  {
   "cell_type": "code",
   "execution_count": null,
   "metadata": {},
   "outputs": [],
   "source": [
    "#Implementasi Thresholding\n",
    "ret, img1_thresh1 = cv2.threshold(img1, 127, 255, cv2.THRESH_BINARY)\n",
    "ret, img1_thresh2 = cv2.threshold(img1, 127, 255, cv2.THRESH_BINARY_INV)\n",
    "ret, img1_thresh3 = cv2.threshold(img1, 127, 255, cv2.THRESH_TRUNC)\n",
    "ret, img1_thresh4 = cv2.threshold(img1, 127, 255, cv2.THRESH_TOZERO)\n",
    "ret, img1_thresh5 = cv2.threshold(img1, 127, 255, cv2.THRESH_TOZERO_INV)\n",
    "ret, img2_thresh1 = cv2.threshold(img2, 127, 255, cv2.THRESH_BINARY)\n",
    "ret, img2_thresh2 = cv2.threshold(img2, 127, 255, cv2.THRESH_BINARY_INV)\n",
    "ret, img2_thresh3 = cv2.threshold(img2, 127, 255, cv2.THRESH_TRUNC)\n",
    "ret, img2_thresh4 = cv2.threshold(img2, 127, 255, cv2.THRESH_TOZERO)\n",
    "ret, img2_thresh5 = cv2.threshold(img2, 127, 255, cv2.THRESH_TOZERO_INV)\n",
    "\n",
    "titles = [\"Original Image1\",\"BINARY Image1\",\"BINARY_INV Image1\",\"TRUNC Image1\",\"TRUNC_INV Image1\",\"TOZERO Image1\",\"TOZERO_INV Image1\",\"Original Image2\",\"BINARY Image2\",\"BINARY_INV Image2\",\"TRUNC Image2\",\"TRUNC_INV Image2\",\"TOZERO Image2\",\"TOZERO_INV Image2\"]\n",
    "images = [img1, img1_thresh1, img1_thresh2, img1_thresh3, img1_thresh4, img1_thresh5, img2, img2_thresh1, img2_thresh2, img2_thresh3, img2_thresh4, img2_thresh5]\n",
    "\n",
    "for i in range(12):\n",
    "    plt.subplot(3, 4, i+1), plt.imshow(images[i], 'gray')\n",
    "    plt.title(titles[i])\n",
    "    plt.xticks([]), plt.yticks([])\n",
    "    plt.show()"
   ]
  }
 ],
 "metadata": {
  "interpreter": {
   "hash": "c569cd2e17f62341e0f08a54f9a867c3c0d3a6f67454072d7de41a8b5dff8343"
  },
  "kernelspec": {
   "display_name": "Python 3.9.7 64-bit",
   "name": "python3"
  },
  "language_info": {
   "codemirror_mode": {
    "name": "ipython",
    "version": 3
   },
   "file_extension": ".py",
   "mimetype": "text/x-python",
   "name": "python",
   "nbconvert_exporter": "python",
   "pygments_lexer": "ipython3",
   "version": "3.9.7"
  },
  "orig_nbformat": 4
 },
 "nbformat": 4,
 "nbformat_minor": 2
}
