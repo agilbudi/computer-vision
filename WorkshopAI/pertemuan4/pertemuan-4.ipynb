{
 "cells": [
  {
   "cell_type": "code",
   "execution_count": 39,
   "metadata": {},
   "outputs": [],
   "source": [
    "from skimage.io import imread\n",
    "import cv2\n",
    "import numpy as np\n",
    "temp = cv2.imread(\"hide09.jpg\")\n",
    "height, width = temp.shape[:2]\n",
    "\n",
    "img = cv2.imread(\"j.png\", 0)\n",
    "img1 = cv2.imread(\"lena_color.jpg\", 0)\n",
    "img2 = cv2.resize(temp, (width // 6, height // 6), interpolation=cv2.INTER_AREA)\n",
    "kernel = np.ones((5,5), np.uint8)"
   ]
  },
  {
   "cell_type": "code",
   "execution_count": 19,
   "metadata": {},
   "outputs": [],
   "source": [
    "#Erosion\n",
    "erosion = cv2.erode(img, kernel, iterations=1)\n",
    "cv2.imshow(\"Erosion\", erosion)\n",
    "cv2.imshow(\"Original\", img)\n",
    "cv2.waitKey(0)\n",
    "cv2.destroyAllWindows()"
   ]
  },
  {
   "cell_type": "code",
   "execution_count": 20,
   "metadata": {},
   "outputs": [],
   "source": [
    "#Dilation\n",
    "dilation = cv2.dilate(img, kernel, iterations=1)\n",
    "cv2.imshow(\"Dilation\", dilation)\n",
    "cv2.imshow(\"Original\", img)\n",
    "cv2.waitKey(0)\n",
    "cv2.destroyAllWindows()"
   ]
  },
  {
   "cell_type": "code",
   "execution_count": 25,
   "metadata": {},
   "outputs": [],
   "source": [
    "#Opening\n",
    "opening = cv2.morphologyEx(img1, cv2.MORPH_OPEN, kernel)\n",
    "cv2.imshow(\"Opening\", opening)\n",
    "cv2.imshow(\"Original\", img1)\n",
    "cv2.waitKey(0)\n",
    "cv2.destroyAllWindows()"
   ]
  },
  {
   "cell_type": "code",
   "execution_count": 22,
   "metadata": {},
   "outputs": [],
   "source": [
    "#Closing\n",
    "closing = cv2.morphologyEx(img1, cv2.MORPH_CLOSE, kernel)\n",
    "cv2.imshow(\"Closing\", closing)\n",
    "cv2.imshow(\"Original\", img1)\n",
    "cv2.waitKey(0)\n",
    "cv2.destroyAllWindows()"
   ]
  },
  {
   "cell_type": "code",
   "execution_count": 23,
   "metadata": {},
   "outputs": [],
   "source": [
    "#Gradient\n",
    "gradient = cv2.morphologyEx(img, cv2.MORPH_GRADIENT, kernel)\n",
    "cv2.imshow(\"Gradient\", gradient)\n",
    "cv2.imshow(\"Original\", img)\n",
    "cv2.waitKey(0)\n",
    "cv2.destroyAllWindows()"
   ]
  },
  {
   "cell_type": "code",
   "execution_count": 38,
   "metadata": {},
   "outputs": [],
   "source": [
    "#Laplacian\n",
    "laplacian = cv2.Laplacian(img2, cv2.CV_64F)\n",
    "cv2.imshow(\"Laplacian\", laplacian)\n",
    "cv2.imshow(\"Original\", img2)\n",
    "cv2.waitKey(0)\n",
    "cv2.destroyAllWindows()"
   ]
  },
  {
   "cell_type": "code",
   "execution_count": 40,
   "metadata": {},
   "outputs": [],
   "source": [
    "#Canny\n",
    "canny = cv2.Canny(img1, 50, 240)\n",
    "cv2.imshow(\"Canny\", canny)\n",
    "cv2.imshow(\"Original\", img1)\n",
    "cv2.waitKey(0)\n",
    "cv2.destroyAllWindows()"
   ]
  }
 ],
 "metadata": {
  "interpreter": {
   "hash": "c569cd2e17f62341e0f08a54f9a867c3c0d3a6f67454072d7de41a8b5dff8343"
  },
  "kernelspec": {
   "display_name": "Python 3.9.7 64-bit",
   "name": "python3"
  },
  "language_info": {
   "codemirror_mode": {
    "name": "ipython",
    "version": 3
   },
   "file_extension": ".py",
   "mimetype": "text/x-python",
   "name": "python",
   "nbconvert_exporter": "python",
   "pygments_lexer": "ipython3",
   "version": "3.9.7"
  },
  "orig_nbformat": 4
 },
 "nbformat": 4,
 "nbformat_minor": 2
}
