{
 "cells": [
  {
   "cell_type": "code",
   "execution_count": null,
   "metadata": {},
   "outputs": [],
   "source": [
    "#library\n",
    "import numpy as np\n",
    "from skimage.transform import (hough_line, hough_line_peaks, hough_circle, hough_circle_peaks)\n",
    "from skimage.draw import circle_perimeter\n",
    "from skimage.feature import canny\n",
    "from skimage.data import astronaut\n",
    "from skimage.io import imread, imsave\n",
    "from skimage.color import rgb2gray, gray2rgb, label2rgb\n",
    "from skimage import img_as_float\n",
    "from skimage.morphology import skeletonize\n",
    "from skimage import data, img_as_float\n",
    "import matplotlib.pyplot as plt\n",
    "from matplotlib import cm\n",
    "from skimage.filters import sobel, threshold_otsu\n",
    "from skimage.feature import canny\n",
    "from skimage.segmentation import felzenszwalb, slic, quickshift, watershed\n",
    "from skimage.segmentation import mark_boundaries, find_boundaries"
   ]
  },
  {
   "cell_type": "code",
   "execution_count": null,
   "metadata": {},
   "outputs": [],
   "source": [
    "image = rgb2gray(imread('img/horse.jpg'))\n",
    "thresh = threshold_otsu(image)\n",
    "binary = image < thresh\n",
    "\n",
    "fig, axes = plt.subplots(nrows=2, ncols=2, figsize=(20, 15))\n",
    "ax = axes.ravel()\n",
    "ax[0] = plt.subplot(2, 2, 1)\n",
    "ax[1] = plt.subplot(2, 2, 2)\n",
    "ax[2] = plt.subplot(2, 2, 3, sharex=ax[0], sharey=ax[0])\n",
    "ax[3] = plt.subplot(2, 2, 4, sharex=ax[0], sharey=ax[0])\n",
    "\n",
    "ax[0].imshow(image, cmap=plt.cm.gray)\n",
    "ax[0].set_title('Original', size=20)\n",
    "ax[0].axis('off')\n",
    "\n",
    "ax[1].hist(image.ravel(), bins=256)\n",
    "ax[1].set_title('Histrogram', size=20)\n",
    "ax[1].axvline(thresh, color='r')\n",
    "\n",
    "ax[2].imshow(binary, cmap=plt.cm.gray)\n",
    "ax[2].set_title('Threshold (Otsu)', size=20)\n",
    "ax[2].axis('off')\n",
    "\n",
    "ax[3].axis('off')\n",
    "\n",
    "plt.tight_layout()\n",
    "plt.show()"
   ]
  },
  {
   "cell_type": "code",
   "execution_count": null,
   "metadata": {},
   "outputs": [],
   "source": [
    "#Region-based\n",
    "coins = data.coins()\n",
    "\n",
    "hist = np.histogram(coins, bins=np.arange(0, 256), normed=True)\n",
    "edges = canny(coins, sigma=2)\n",
    "\n",
    "fig, axes = plt.subplots(1, 2, figsize=(20, 10))\n",
    "\n",
    "axes[0].imshow(coins, cmap=plt.cm.gray, interpolation='nearest')\n",
    "axes[0].set_title('Original')\n",
    "axes[0].axis('off')\n",
    "axes[1].plot(hist[1][:-1], hist[0], lw=2)\n",
    "axes[1].set_title('Histrogram of gray values')\n",
    "plt.show()\n",
    "\n",
    "fig, ax = plt.subplots(figsize=(10, 6))\n",
    "ax.imshow(edges, cmap=plt.cm.gray, interpolation='nearest')\n",
    "ax.set_title('Canny detector')\n",
    "ax.axis('off')\n",
    "plt.show()"
   ]
  },
  {
   "cell_type": "code",
   "execution_count": null,
   "metadata": {},
   "outputs": [],
   "source": [
    "#filling-the-holes\n",
    "from scipy import ndimage as ndi\n",
    "\n",
    "fill_coins = ndi.binary_fill_holes(edges)\n",
    "\n",
    "fig, ax = plt.subplots(figsize=(10, 6))\n",
    "ax.imshow(fill_coins, cmap=plt.cm.gray, interpolation='nearest')\n",
    "ax.set_title('filling the holes')\n",
    "ax.axis('off')\n",
    "plt.show()"
   ]
  },
  {
   "cell_type": "code",
   "execution_count": null,
   "metadata": {},
   "outputs": [],
   "source": [
    "#removing-small-objects\n",
    "from skimage import morphology\n",
    "\n",
    "coin_cleaned = morphology.remove_small_objects(fill_coins, 21)\n",
    "\n",
    "fig, ax = plt.subplots(figsize=(10, 6))\n",
    "ax.imshow(coin_cleaned, cmap=plt.cm.gray, interpolation='nearest')\n",
    "ax.set_title('removing small objects')\n",
    "ax.axis('off')\n",
    "plt.show()"
   ]
  },
  {
   "cell_type": "code",
   "execution_count": null,
   "metadata": {},
   "outputs": [],
   "source": [
    "#elevation-map\n",
    "elevation_map = sobel(coins)\n",
    "\n",
    "fig, ax = plt.subplots(figsize=(10, 6))\n",
    "ax.imshow(elevation_map, cmap=plt.cm.gray, interpolation='nearest')\n",
    "ax.set_title('elevation map')\n",
    "ax.axis('off')\n",
    "plt.show()\n",
    "print(elevation_map.shape)"
   ]
  },
  {
   "cell_type": "code",
   "execution_count": null,
   "metadata": {},
   "outputs": [],
   "source": [
    "#markers\n",
    "markers = np.zeros_like(coins)\n",
    "markers[coins < 30] = 1\n",
    "markers[coins > 150] = 2\n",
    "print(np.max(markers), np.min(markers))\n",
    "\n",
    "fig, ax =plt.subplots(figsize=(10, 6))\n",
    "a = ax.imshow(markers, cmap=plt.cm.hot, interpolation='nearest')\n",
    "plt.colorbar(a)\n",
    "ax.set_title('markers')\n",
    "ax.axis('off')\n",
    "plt.show()"
   ]
  },
  {
   "cell_type": "code",
   "execution_count": null,
   "metadata": {},
   "outputs": [],
   "source": [
    "#segmentation\n",
    "segmentation = morphology.watershed(elevation_map, markers)\n",
    "\n",
    "fig, ax = plt.subplots(figsize=(10, 6))\n",
    "ax.imshow(segmentation, cmap=plt.cm.gray, interpolation='nearest')\n",
    "ax.set_title('segmentation')\n",
    "ax.axis('off')\n",
    "plt.show()"
   ]
  },
  {
   "cell_type": "code",
   "execution_count": null,
   "metadata": {},
   "outputs": [],
   "source": [
    "#coloring\n",
    "segmentation = ndi.binary_fill_holes(segmentation - 1)\n",
    "labeled_coins, _ = ndi.label(segmentation)\n",
    "print(np.unique(labeled_coins))\n",
    "image_label_overlay = label2rgb(labeled_coins, image=coins)\n",
    "\n",
    "fig, axes = plt.subplots(1, 2, figsize=(20, 6), sharey=True)\n",
    "axes[0].imshow(coins, cmap=plt.cm.gray, interpolation='nearest')\n",
    "axes[0].contour(segmentation, [0.5], linewidths=1.2, colors='y')\n",
    "axes[1].imshow(image_label_overlay, interpolation='nearest')\n",
    "\n",
    "for a in axes:\n",
    "    a.axis('off')\n",
    "\n",
    "plt.tight_layout()\n",
    "plt.show()"
   ]
  }
 ],
 "metadata": {
  "interpreter": {
   "hash": "c569cd2e17f62341e0f08a54f9a867c3c0d3a6f67454072d7de41a8b5dff8343"
  },
  "kernelspec": {
   "display_name": "Python 3.9.7 64-bit",
   "language": "python",
   "name": "python3"
  },
  "language_info": {
   "codemirror_mode": {
    "name": "ipython",
    "version": 3
   },
   "file_extension": ".py",
   "mimetype": "text/x-python",
   "name": "python",
   "nbconvert_exporter": "python",
   "pygments_lexer": "ipython3",
   "version": "3.9.7"
  },
  "orig_nbformat": 4
 },
 "nbformat": 4,
 "nbformat_minor": 2
}
