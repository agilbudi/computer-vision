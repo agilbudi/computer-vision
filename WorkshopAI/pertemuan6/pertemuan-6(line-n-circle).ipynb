{
 "cells": [
  {
   "cell_type": "code",
   "execution_count": null,
   "metadata": {},
   "outputs": [],
   "source": [
    "import numpy as np\n",
    "from skimage.transform import (hough_line, hough_line_peaks, hough_circle, hough_circle_peaks)\n",
    "from skimage.draw import circle_perimeter\n",
    "from skimage.io import imread, imsave\n",
    "from skimage.color import rgb2gray, gray2rgb, label2rgb\n",
    "from skimage.morphology import skeletonize\n",
    "from skimage import data, img_as_float\n",
    "import matplotlib.pyplot as plt\n",
    "from matplotlib import cm"
   ]
  },
  {
   "cell_type": "code",
   "execution_count": null,
   "metadata": {},
   "outputs": [],
   "source": [
    "image = rgb2gray(imread('img/triangle_circle.png'))\n",
    "\n",
    "#\n",
    "h, theta, d = hough_line(image)\n",
    "\n",
    "#\n",
    "fig, axes = plt.subplots(2, 2, figsize=(20, 20))\n",
    "ax = axes.ravel()\n",
    "\n",
    "ax[0].imshow(image, cmap=cm.gray)\n",
    "ax[0].set_title('Input image', size=20)\n",
    "ax[0].set_axis_off()\n",
    "\n",
    "ax[1].imshow(np.log(1 + h),\n",
    "                extent=[10*np.rad2deg(theta[-1]), np.rad2deg(theta[0]), d[-1],d[0]],\n",
    "                cmap=cm.hot, aspect=1/1.5)\n",
    "\n",
    "ax[1].set_title('Hough transform', size=20)\n",
    "ax[1].set_xlabel('Angles (degrees)', size=20)\n",
    "ax[1].set_ylabel('Distance (pixels)', size=20)\n",
    "ax[1].axis('image')\n",
    "\n",
    "ax[2].imshow(image, cmap=cm.gray)\n",
    "for _, angle, dist in zip(*hough_line_peaks(h, theta, d)):\n",
    "    y0 = (dist - 0 * np.cos(angle)) / np.sin(angle)\n",
    "    y1 = (dist - image.shape[1] * np.cos(angle)) / np.sin(angle)\n",
    "    ax[2].plot((0, image.shape[1]), (y0, y1), '-r')\n",
    "ax[2].set_xlim((0, image.shape[1]))\n",
    "ax[2].set_ylim((image.shape[0], 0))\n",
    "ax[2].set_axis_off()\n",
    "ax[2].set_title('Detected lines', size=20)\n",
    "\n",
    "hough_radii = np.arange(50, 100, 2)\n",
    "hough_res = hough_circle(image, hough_radii)\n",
    "\n",
    "#\n",
    "accums, cx, cy, radii = hough_circle_peaks(hough_res, hough_radii, total_num_peaks=6)\n",
    "\n",
    "image = gray2rgb(image)\n",
    "for center_y, center_x, radius in zip(cy, cx, radii):\n",
    "    circy, circx = circle_perimeter(center_y, center_x, radius)\n",
    "    image[circy, circx] = (0.9, 0.2, 0.2)\n",
    "\n",
    "ax[3].imshow(image, cmap=plt.cm.gray)\n",
    "ax[3].set_axis_off()\n",
    "ax[3].set_title('Detected Circles', size=20)\n",
    "\n",
    "plt.tight_layout()\n",
    "plt.show()"
   ]
  },
  {
   "cell_type": "code",
   "execution_count": null,
   "metadata": {},
   "outputs": [],
   "source": [
    "image = rgb2gray(imread('img/coins.png'))\n",
    "\n",
    "fig, axes = plt.subplots(1, 2, figsize=(20, 10), sharex=True, sharey=True)\n",
    "ax = axes.ravel()\n",
    "\n",
    "ax[0].imshow(image, cmap=plt.cm.gray)\n",
    "ax[0].set_axis_off()\n",
    "ax[0].set_title('Original Image', size=20)\n",
    "\n",
    "hough_radii = np.arange(65, 75, 1)\n",
    "hough_res = hough_circle(image, hough_radii)\n",
    "\n",
    "#\n",
    "accums, cx, cy, radii = hough_circle_peaks(hough_res, hough_radii, total_num_peaks=4)\n",
    "\n",
    "image = gray2rgb(image)\n",
    "for center_y, center_x, radius in zip(cy, cx, radii):\n",
    "    circy, circx = circle_perimeter(center_y, center_x, radius)\n",
    "    image[circy, circx] = (1, 0, 0)\n",
    "\n",
    "ax[1].imshow(image, cmap=plt.cm.gray)\n",
    "ax[1].set_axis_off()\n",
    "ax[1].set_title('Detected Circles', size=20)\n",
    "\n",
    "plt.tight_layout()\n",
    "plt.show()"
   ]
  }
 ],
 "metadata": {
  "interpreter": {
   "hash": "c569cd2e17f62341e0f08a54f9a867c3c0d3a6f67454072d7de41a8b5dff8343"
  },
  "kernelspec": {
   "display_name": "Python 3.9.7 64-bit",
   "language": "python",
   "name": "python3"
  },
  "language_info": {
   "codemirror_mode": {
    "name": "ipython",
    "version": 3
   },
   "file_extension": ".py",
   "mimetype": "text/x-python",
   "name": "python",
   "nbconvert_exporter": "python",
   "pygments_lexer": "ipython3",
   "version": "3.9.7"
  },
  "orig_nbformat": 4
 },
 "nbformat": 4,
 "nbformat_minor": 2
}
