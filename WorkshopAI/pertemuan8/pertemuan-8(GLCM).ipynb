{
 "cells": [
  {
   "cell_type": "code",
   "execution_count": null,
   "metadata": {},
   "outputs": [],
   "source": [
    "#Gray Level Co-occurrence Matrix (GLCM)\n",
    "import numpy as np\n",
    "import mahotas as mh\n",
    "\n",
    "def glcm_reatures(f, ignore_zeros=True):\n",
    "    #Labels\n",
    "    labels = [\"GLCM_ASM\",\"GLCM_Contrast\",\"GLCM_Correlation\",\n",
    "                \"GLCM_SumOfSquaresVariance\",\"GLCM_InverseDifferenceMoment\",\n",
    "                \"GLCM_SumAverage\",\"GLCM_SumVariance\",\"GLCM_SumEntropy\",\n",
    "                \"GLCM_Entropy\",\"GLCM_DifferenceVariance\",\n",
    "                \"GLCM_DifferenceEntropy\",\"GLCM_Information1\",\n",
    "                \"GLCM_Information2\",\"GLCM_MaximalCorrelationCoefficient\"]\n",
    "    labels_mean = [label + \"_Mean\" for label in labels]\n",
    "    labels_range = [label + \"_Range\" for label in labels]\n",
    "\n",
    "    #Parameters\n",
    "    f = f.astype(np.uint8)\n",
    "\n",
    "    #Calculate Features: Mean and Range\n",
    "    features = mh.features.haralick(f,\n",
    "        ignore_zeros=ignore_zeros,\n",
    "        compute_14th_feature=True,\n",
    "        return_mean_ptp=True)\n",
    "    features_mean = features[0:14]\n",
    "    features_range = features[14:]\n",
    "    return features_mean, features_range, labels_mean, labels_range"
   ]
  },
  {
   "cell_type": "code",
   "execution_count": null,
   "metadata": {},
   "outputs": [],
   "source": [
    "import cv2\n",
    "\n",
    "img = cv2.imread(\"img/kopi1.jpg\")\n",
    "glcm_reatures(img, ignore_zeros=True)"
   ]
  }
 ],
 "metadata": {
  "interpreter": {
   "hash": "c569cd2e17f62341e0f08a54f9a867c3c0d3a6f67454072d7de41a8b5dff8343"
  },
  "kernelspec": {
   "display_name": "Python 3.9.7 64-bit",
   "language": "python",
   "name": "python3"
  },
  "language_info": {
   "codemirror_mode": {
    "name": "ipython",
    "version": 3
   },
   "file_extension": ".py",
   "mimetype": "text/x-python",
   "name": "python",
   "nbconvert_exporter": "python",
   "pygments_lexer": "ipython3",
   "version": "3.9.7"
  },
  "orig_nbformat": 4
 },
 "nbformat": 4,
 "nbformat_minor": 2
}
