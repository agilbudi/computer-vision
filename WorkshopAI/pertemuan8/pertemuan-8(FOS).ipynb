{
 "cells": [
  {
   "cell_type": "code",
   "execution_count": null,
   "metadata": {},
   "outputs": [],
   "source": [
    "import numpy as np\n",
    "\n",
    "def fos(name, f, mask):\n",
    "    if mask is None:\n",
    "        mask = np.ones(f.shape)\n",
    "    \n",
    "    #Labels\n",
    "    labels = [\"FOS_Mean\",\"FOS_Variance\",\"FOS_Median\",\"FOS_Mode\",\"FOS_Skewness\",\"FOS_Kurtosis\",\"FOS_Energy\",\"FOS_Entropy\",\"FOS_MinimalGrayLevel\",\"FOS_MaximalGrayLevel\",\"FOS_CoefficienOfVariation\",\"FOS_10Percentile\",\"FOS_25Percentile\",\"FOS_75Percentile\",\"FOS_90Percentile\",\"FOS_HistrogramWidth\"]\n",
    "\n",
    "    #Parameters\n",
    "    f = f.astype(np.uint8)\n",
    "    mask = mask.astype(np.uint8)\n",
    "    level_min = 0\n",
    "    level_max = 255\n",
    "    Ng = (level_max - level_min) + 1\n",
    "    bins = Ng\n",
    "\n",
    "    #Calculate Histrogram H inside ROI\n",
    "    f_ravel = f.ravel()\n",
    "    mask_ravel = mask.ravel()\n",
    "    roi = f_ravel[mask_ravel.astype(bool)]\n",
    "    H = np.histogram(roi, bins=bins, range=[level_min, level_max], density=True)[0]\n",
    "\n",
    "    #Calculate Features\n",
    "    features = np.zeros(16, np.double)\n",
    "    i = np.arange(0, bins)\n",
    "    features[0] = np.dot(i,H)\n",
    "    features[1] = sum(np.multiply(((i-features[0])**2),H))\n",
    "    features[2] = np.percentile(roi,50)\n",
    "    features[3] = np.argmax(H)\n",
    "    features[4] = sum(np.multiply(((i-features[0])**3),H))/(np.sqrt(features[1])**3)\n",
    "    features[5] = sum(np.multiply(((i-features[0])**4),H))/(np.sqrt(features[1])**4)\n",
    "    features[6] = sum(np.multiply(H,H))\n",
    "    features[7] = sum(np.multiply(H,np.log(H+1e-16)))\n",
    "    features[8] = min(roi)\n",
    "    features[9] = max(roi)\n",
    "    features[10] = np.sqrt(features[2])/features[0]\n",
    "    features[11] = np.percentile(roi,10)\n",
    "    features[12] = np.percentile(roi,25)\n",
    "    features[13] = np.percentile(roi,75)\n",
    "    features[14] = np.percentile(roi,90)\n",
    "    features[15] = features[14] - features[11]\n",
    "\n",
    "    return name,features, labels"
   ]
  },
  {
   "cell_type": "code",
   "execution_count": null,
   "metadata": {},
   "outputs": [],
   "source": [
    "import cv2\n",
    "\n",
    "img1 = cv2.imread(\"img/kopi1.jpg\")\n",
    "img2 = cv2.imread(\"img/lena_color.jpg\")\n",
    "fos(\"lena\",img2, None)"
   ]
  }
 ],
 "metadata": {
  "interpreter": {
   "hash": "c569cd2e17f62341e0f08a54f9a867c3c0d3a6f67454072d7de41a8b5dff8343"
  },
  "kernelspec": {
   "display_name": "Python 3.9.7 64-bit",
   "language": "python",
   "name": "python3"
  },
  "language_info": {
   "codemirror_mode": {
    "name": "ipython",
    "version": 3
   },
   "file_extension": ".py",
   "mimetype": "text/x-python",
   "name": "python",
   "nbconvert_exporter": "python",
   "pygments_lexer": "ipython3",
   "version": "3.9.7"
  },
  "orig_nbformat": 4
 },
 "nbformat": 4,
 "nbformat_minor": 2
}
