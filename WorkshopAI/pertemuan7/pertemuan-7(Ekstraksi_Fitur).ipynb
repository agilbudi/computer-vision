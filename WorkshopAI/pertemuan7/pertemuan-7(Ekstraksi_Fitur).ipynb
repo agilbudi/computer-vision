{
 "cells": [
  {
   "cell_type": "code",
   "execution_count": null,
   "metadata": {},
   "outputs": [],
   "source": [
    "import numpy as np\n",
    "from skimage.io import imread, imshow\n",
    "eight = 'img/image8.jpg'\n",
    "lena =  'img/lena_color.jpg'"
   ]
  },
  {
   "cell_type": "code",
   "execution_count": null,
   "metadata": {},
   "outputs": [],
   "source": [
    "#Grayscale pixel values as Features\n",
    "imageLena = imread(lena, as_gray=True)\n",
    "imageLena.shape, imshow(imageLena)\n",
    "\n",
    "features = np.reshape(imageLena, (512*512))\n",
    "features.shape, features"
   ]
  },
  {
   "cell_type": "code",
   "execution_count": null,
   "metadata": {},
   "outputs": [],
   "source": [
    "image8 = imread(eight, as_gray=True)\n",
    "image8.shape, imshow(image8)\n",
    "\n",
    "features = np.reshape(image8, (225*225))\n",
    "features.shape"
   ]
  },
  {
   "cell_type": "code",
   "execution_count": null,
   "metadata": {},
   "outputs": [],
   "source": [
    "#Mean Pixel Value of Channels\n",
    "imageLena = imread(lena)\n",
    "feature_matrix = np.zeros((512,512))\n",
    "for i in range(0, imageLena.shape[0]):\n",
    "    for j in range(0, imageLena.shape[1]):\n",
    "        feature_matrix[i][j] = ((int(imageLena[i,j,0]) + int(imageLena[i,j,1]) + int(imageLena[i,j,2]))/3)\n",
    "features = np.reshape(feature_matrix, (512*512))\n",
    "features.shape, imshow(imageLena)"
   ]
  }
 ],
 "metadata": {
  "interpreter": {
   "hash": "c569cd2e17f62341e0f08a54f9a867c3c0d3a6f67454072d7de41a8b5dff8343"
  },
  "kernelspec": {
   "display_name": "Python 3.9.7 64-bit",
   "language": "python",
   "name": "python3"
  },
  "language_info": {
   "codemirror_mode": {
    "name": "ipython",
    "version": 3
   },
   "file_extension": ".py",
   "mimetype": "text/x-python",
   "name": "python",
   "nbconvert_exporter": "python",
   "pygments_lexer": "ipython3",
   "version": "3.9.7"
  },
  "orig_nbformat": 4
 },
 "nbformat": 4,
 "nbformat_minor": 2
}
