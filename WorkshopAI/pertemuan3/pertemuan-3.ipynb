{
 "cells": [
  {
   "cell_type": "code",
   "execution_count": 39,
   "metadata": {},
   "outputs": [],
   "source": [
    "from skimage.io import imread, imshow\n",
    "import cv2\n",
    "import numpy as np\n",
    "img = imread(\"grant.jpg\")\n",
    "height, width= img.shape[:2]\n",
    "kernel = np.ones((3,3), np.float32)/9"
   ]
  },
  {
   "cell_type": "code",
   "execution_count": 22,
   "metadata": {},
   "outputs": [],
   "source": [
    "#Filtered Image\n",
    "image1 = cv2.resize(img, (width // 6, height // 6), interpolation=cv2.INTER_AREA)\n",
    "dst = cv2.filter2D(image1, -1, kernel)\n",
    "cv2.imshow(\"Originale image\", image1)\n",
    "cv2.imshow(\"Filtered image\", dst)\n",
    "cv2.waitKey(0)\n",
    "cv2.destroyAllWindows()"
   ]
  },
  {
   "cell_type": "code",
   "execution_count": 25,
   "metadata": {},
   "outputs": [],
   "source": [
    "#Blurred Filtering\n",
    "image2 = cv2.resize(img, (width // 7, height // 7), interpolation=cv2.INTER_AREA)\n",
    "blur = cv2.blur(image2, (5,5))\n",
    "cv2.imshow(\"Originale image\", image2)\n",
    "cv2.imshow(\"Blurred image\", blur)\n",
    "cv2.waitKey(0)\n",
    "cv2.destroyAllWindows()"
   ]
  },
  {
   "cell_type": "code",
   "execution_count": 26,
   "metadata": {},
   "outputs": [],
   "source": [
    "#Gaussianblurred Filtering\n",
    "image3 = cv2.resize(img, (width // 6, height // 6), interpolation=cv2.INTER_AREA)\n",
    "gaussian = cv2.GaussianBlur(image3, (5,5), 0)\n",
    "cv2.imshow(\"Originale image\", image3)\n",
    "cv2.imshow(\"Gaussianblurred image\", gaussian)\n",
    "cv2.waitKey(0)\n",
    "cv2.destroyAllWindows()"
   ]
  },
  {
   "cell_type": "code",
   "execution_count": 38,
   "metadata": {},
   "outputs": [],
   "source": [
    "#Medianblurred Filtering\n",
    "image4 = cv2.resize(img, (width // 7, height // 7), interpolation=cv2.INTER_AREA)\n",
    "median = cv2.medianBlur(image4, 5)\n",
    "cv2.imshow(\"Originale image\", image4)\n",
    "cv2.imshow(\"Medianblurred image\", median)\n",
    "cv2.waitKey(0)\n",
    "cv2.destroyAllWindows()"
   ]
  },
  {
   "cell_type": "code",
   "execution_count": 41,
   "metadata": {},
   "outputs": [],
   "source": [
    "#Sharpen Filtering\n",
    "image5 = cv2.resize(img, (width // 8, height // 8), interpolation=cv2.INTER_AREA)\n",
    "cv2.imshow(\"Originale image\", image5)\n",
    "kernel_sharpen1 = np.array([[-1,-1,-1], [-1,9,-1], [-1,-1,-1]])\n",
    "kernel_sharpen2 = np.array([[1,1,1], [1,-7,1], [1,1,1]])\n",
    "sharpening = cv2.filter2D(image5, -1, kernel_sharpen1)\n",
    "exessive = cv2.filter2D(image5, -1, kernel_sharpen2)\n",
    "cv2.imshow(\"Sharpening\", sharpening)\n",
    "cv2.imshow(\"Exessive Sharpening\", exessive)\n",
    "cv2.waitKey(0)\n",
    "cv2.destroyAllWindows()"
   ]
  }
 ],
 "metadata": {
  "interpreter": {
   "hash": "c569cd2e17f62341e0f08a54f9a867c3c0d3a6f67454072d7de41a8b5dff8343"
  },
  "kernelspec": {
   "display_name": "Python 3.9.7 64-bit",
   "name": "python3"
  },
  "language_info": {
   "codemirror_mode": {
    "name": "ipython",
    "version": 3
   },
   "file_extension": ".py",
   "mimetype": "text/x-python",
   "name": "python",
   "nbconvert_exporter": "python",
   "pygments_lexer": "ipython3",
   "version": "3.9.7"
  },
  "orig_nbformat": 4
 },
 "nbformat": 4,
 "nbformat_minor": 2
}
