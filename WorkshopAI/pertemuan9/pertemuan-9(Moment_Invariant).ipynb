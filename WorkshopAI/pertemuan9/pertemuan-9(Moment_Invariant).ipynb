{
 "cells": [
  {
   "cell_type": "code",
   "execution_count": null,
   "metadata": {},
   "outputs": [],
   "source": [
    "import cv2\n",
    "\n",
    "def hu_moments(f):\n",
    "    features = cv2.HuMoments(cv2.moments(f)).flatten()\n",
    "    labels = ['Hu_Moments_'+ str(i) for i in range(features.shape[0])]\n",
    "    return features, labels"
   ]
  },
  {
   "cell_type": "code",
   "execution_count": null,
   "metadata": {},
   "outputs": [],
   "source": [
    "image = cv2.imread(\"img/kopi1.jpg\", cv2.IMREAD_GRAYSCALE)\n",
    "(thresh, im_bw) = cv2.threshold(image, 500, 500, cv2.THRESH_BINARY_INV | cv2.THRESH_OTSU)\n",
    "\n",
    "hu_moments(image)"
   ]
  }
 ],
 "metadata": {
  "interpreter": {
   "hash": "c569cd2e17f62341e0f08a54f9a867c3c0d3a6f67454072d7de41a8b5dff8343"
  },
  "kernelspec": {
   "display_name": "Python 3.9.7 64-bit",
   "language": "python",
   "name": "python3"
  },
  "language_info": {
   "codemirror_mode": {
    "name": "ipython",
    "version": 3
   },
   "file_extension": ".py",
   "mimetype": "text/x-python",
   "name": "python",
   "nbconvert_exporter": "python",
   "pygments_lexer": "ipython3",
   "version": "3.9.7"
  },
  "orig_nbformat": 4
 },
 "nbformat": 4,
 "nbformat_minor": 2
}
